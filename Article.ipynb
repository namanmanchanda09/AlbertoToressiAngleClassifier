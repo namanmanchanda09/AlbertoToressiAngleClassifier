{
 "cells": [
  {
   "cell_type": "code",
   "execution_count": 1,
   "metadata": {},
   "outputs": [],
   "source": [
    "import pandas as pd\n",
    "import numpy as np"
   ]
  },
  {
   "cell_type": "code",
   "execution_count": 2,
   "metadata": {},
   "outputs": [
    {
     "data": {
      "text/html": [
       "<div>\n",
       "<style scoped>\n",
       "    .dataframe tbody tr th:only-of-type {\n",
       "        vertical-align: middle;\n",
       "    }\n",
       "\n",
       "    .dataframe tbody tr th {\n",
       "        vertical-align: top;\n",
       "    }\n",
       "\n",
       "    .dataframe thead th {\n",
       "        text-align: right;\n",
       "    }\n",
       "</style>\n",
       "<table border=\"1\" class=\"dataframe\">\n",
       "  <thead>\n",
       "    <tr style=\"text-align: right;\">\n",
       "      <th></th>\n",
       "      <th>ArticleName</th>\n",
       "      <th>Shoe Type</th>\n",
       "    </tr>\n",
       "  </thead>\n",
       "  <tbody>\n",
       "    <tr>\n",
       "      <th>1</th>\n",
       "      <td>10 MIX</td>\n",
       "      <td>SANDAL</td>\n",
       "    </tr>\n",
       "    <tr>\n",
       "      <th>2</th>\n",
       "      <td>10 MIX</td>\n",
       "      <td>SANDAL</td>\n",
       "    </tr>\n",
       "    <tr>\n",
       "      <th>3</th>\n",
       "      <td>10 MIX 2ND GRADE STOCK</td>\n",
       "      <td>SANDAL</td>\n",
       "    </tr>\n",
       "    <tr>\n",
       "      <th>4</th>\n",
       "      <td>1059 DARK BLUE</td>\n",
       "      <td>SHOE</td>\n",
       "    </tr>\n",
       "    <tr>\n",
       "      <th>5</th>\n",
       "      <td>1059 TAN</td>\n",
       "      <td>SHOE</td>\n",
       "    </tr>\n",
       "    <tr>\n",
       "      <th>...</th>\n",
       "      <td>...</td>\n",
       "      <td>...</td>\n",
       "    </tr>\n",
       "    <tr>\n",
       "      <th>4975</th>\n",
       "      <td>9937/115 BLACK</td>\n",
       "      <td>BOOT</td>\n",
       "    </tr>\n",
       "    <tr>\n",
       "      <th>4976</th>\n",
       "      <td>9937/115 BLACK</td>\n",
       "      <td>BOOT</td>\n",
       "    </tr>\n",
       "    <tr>\n",
       "      <th>4977</th>\n",
       "      <td>9937/115 BORDO</td>\n",
       "      <td>BOOT</td>\n",
       "    </tr>\n",
       "    <tr>\n",
       "      <th>4978</th>\n",
       "      <td>9982/111  BURGUNDY</td>\n",
       "      <td>SHOE</td>\n",
       "    </tr>\n",
       "    <tr>\n",
       "      <th>4979</th>\n",
       "      <td>9982/111  D. BROWN</td>\n",
       "      <td>SHOE</td>\n",
       "    </tr>\n",
       "  </tbody>\n",
       "</table>\n",
       "<p>4979 rows × 2 columns</p>\n",
       "</div>"
      ],
      "text/plain": [
       "                 ArticleName Shoe Type\n",
       "1                     10 MIX    SANDAL\n",
       "2                     10 MIX    SANDAL\n",
       "3     10 MIX 2ND GRADE STOCK    SANDAL\n",
       "4             1059 DARK BLUE      SHOE\n",
       "5                   1059 TAN      SHOE\n",
       "...                      ...       ...\n",
       "4975          9937/115 BLACK      BOOT\n",
       "4976          9937/115 BLACK      BOOT\n",
       "4977          9937/115 BORDO      BOOT\n",
       "4978      9982/111  BURGUNDY      SHOE\n",
       "4979      9982/111  D. BROWN      SHOE\n",
       "\n",
       "[4979 rows x 2 columns]"
      ]
     },
     "execution_count": 2,
     "metadata": {},
     "output_type": "execute_result"
    }
   ],
   "source": [
    "article = pd.read_excel('article.xlsx')\n",
    "article.rename(columns=article.iloc[0], inplace=True)\n",
    "article.drop(article.index[0], inplace=True)\n",
    "article = article.drop(['ArticleId', 'M_L_C'], axis=1)\n",
    "article = article.loc[:, article.columns.notnull()]\n",
    "article"
   ]
  },
  {
   "cell_type": "code",
   "execution_count": 5,
   "metadata": {},
   "outputs": [
    {
     "data": {
      "text/plain": [
       "['SANDAL', 'SHOE', 'SLIPPER', 'BOOT', 'ND']"
      ]
     },
     "execution_count": 5,
     "metadata": {},
     "output_type": "execute_result"
    }
   ],
   "source": [
    "list(pd.Series([i.upper() for i in article['Shoe Type']]).unique())"
   ]
  },
  {
   "cell_type": "code",
   "execution_count": 7,
   "metadata": {},
   "outputs": [
    {
     "data": {
      "text/plain": [
       "SHOE       2872\n",
       "BOOT       1014\n",
       "SLIPPER     761\n",
       "SANDAL      307\n",
       "ND           25\n",
       "Name: Shoe Type, dtype: int64"
      ]
     },
     "execution_count": 7,
     "metadata": {},
     "output_type": "execute_result"
    }
   ],
   "source": [
    "article['Shoe Type'].value_counts()"
   ]
  }
 ],
 "metadata": {
  "kernelspec": {
   "display_name": "Python 3",
   "language": "python",
   "name": "python3"
  },
  "language_info": {
   "codemirror_mode": {
    "name": "ipython",
    "version": 3
   },
   "file_extension": ".py",
   "mimetype": "text/x-python",
   "name": "python",
   "nbconvert_exporter": "python",
   "pygments_lexer": "ipython3",
   "version": "3.7.7"
  }
 },
 "nbformat": 4,
 "nbformat_minor": 4
}
