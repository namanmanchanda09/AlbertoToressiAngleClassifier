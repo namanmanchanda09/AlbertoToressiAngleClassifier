{
 "cells": [
  {
   "cell_type": "code",
   "execution_count": 1,
   "metadata": {},
   "outputs": [],
   "source": [
    "import pandas as pd\n",
    "import numpy as np"
   ]
  },
  {
   "cell_type": "code",
   "execution_count": 2,
   "metadata": {},
   "outputs": [
    {
     "data": {
      "text/html": [
       "<div>\n",
       "<style scoped>\n",
       "    .dataframe tbody tr th:only-of-type {\n",
       "        vertical-align: middle;\n",
       "    }\n",
       "\n",
       "    .dataframe tbody tr th {\n",
       "        vertical-align: top;\n",
       "    }\n",
       "\n",
       "    .dataframe thead th {\n",
       "        text-align: right;\n",
       "    }\n",
       "</style>\n",
       "<table border=\"1\" class=\"dataframe\">\n",
       "  <thead>\n",
       "    <tr style=\"text-align: right;\">\n",
       "      <th></th>\n",
       "      <th>ArticleName</th>\n",
       "      <th>Fastening</th>\n",
       "    </tr>\n",
       "  </thead>\n",
       "  <tbody>\n",
       "    <tr>\n",
       "      <th>0</th>\n",
       "      <td>80782 BLACK</td>\n",
       "      <td>Slip-on</td>\n",
       "    </tr>\n",
       "    <tr>\n",
       "      <th>1</th>\n",
       "      <td>40993 BLUE</td>\n",
       "      <td>Slip on</td>\n",
       "    </tr>\n",
       "    <tr>\n",
       "      <th>2</th>\n",
       "      <td>40113 BLACK</td>\n",
       "      <td>Lace Up</td>\n",
       "    </tr>\n",
       "    <tr>\n",
       "      <th>3</th>\n",
       "      <td>40113 DARK BROWN</td>\n",
       "      <td>Lace Up</td>\n",
       "    </tr>\n",
       "    <tr>\n",
       "      <th>4</th>\n",
       "      <td>4130/110  M. BROWN</td>\n",
       "      <td>Slip-on</td>\n",
       "    </tr>\n",
       "    <tr>\n",
       "      <th>...</th>\n",
       "      <td>...</td>\n",
       "      <td>...</td>\n",
       "    </tr>\n",
       "    <tr>\n",
       "      <th>1754</th>\n",
       "      <td>67722 TAN</td>\n",
       "      <td>Lace-Ups</td>\n",
       "    </tr>\n",
       "    <tr>\n",
       "      <th>1755</th>\n",
       "      <td>67632 TAN</td>\n",
       "      <td>Lace-Ups</td>\n",
       "    </tr>\n",
       "    <tr>\n",
       "      <th>1756</th>\n",
       "      <td>67800 TAN</td>\n",
       "      <td>Lace-Ups</td>\n",
       "    </tr>\n",
       "    <tr>\n",
       "      <th>1757</th>\n",
       "      <td>67800 BLACK</td>\n",
       "      <td>Lace-Ups</td>\n",
       "    </tr>\n",
       "    <tr>\n",
       "      <th>1758</th>\n",
       "      <td>67255 BLACK</td>\n",
       "      <td>Slip-on</td>\n",
       "    </tr>\n",
       "  </tbody>\n",
       "</table>\n",
       "<p>1759 rows × 2 columns</p>\n",
       "</div>"
      ],
      "text/plain": [
       "             ArticleName Fastening\n",
       "0            80782 BLACK   Slip-on\n",
       "1             40993 BLUE   Slip on\n",
       "2            40113 BLACK   Lace Up\n",
       "3       40113 DARK BROWN   Lace Up\n",
       "4     4130/110  M. BROWN   Slip-on\n",
       "...                  ...       ...\n",
       "1754           67722 TAN  Lace-Ups\n",
       "1755           67632 TAN  Lace-Ups\n",
       "1756           67800 TAN  Lace-Ups\n",
       "1757         67800 BLACK  Lace-Ups\n",
       "1758         67255 BLACK   Slip-on\n",
       "\n",
       "[1759 rows x 2 columns]"
      ]
     },
     "execution_count": 2,
     "metadata": {},
     "output_type": "execute_result"
    }
   ],
   "source": [
    "fastening = pd.read_excel('Fastening.xlsx')\n",
    "fastening_final = fastening.drop('ArticleId', axis=1)\n",
    "fastening_final"
   ]
  },
  {
   "cell_type": "code",
   "execution_count": 3,
   "metadata": {},
   "outputs": [
    {
     "data": {
      "text/html": [
       "<div>\n",
       "<style scoped>\n",
       "    .dataframe tbody tr th:only-of-type {\n",
       "        vertical-align: middle;\n",
       "    }\n",
       "\n",
       "    .dataframe tbody tr th {\n",
       "        vertical-align: top;\n",
       "    }\n",
       "\n",
       "    .dataframe thead th {\n",
       "        text-align: right;\n",
       "    }\n",
       "</style>\n",
       "<table border=\"1\" class=\"dataframe\">\n",
       "  <thead>\n",
       "    <tr style=\"text-align: right;\">\n",
       "      <th></th>\n",
       "      <th>ArticleName</th>\n",
       "      <th>Fastening</th>\n",
       "    </tr>\n",
       "  </thead>\n",
       "  <tbody>\n",
       "    <tr>\n",
       "      <th>0</th>\n",
       "      <td>80782</td>\n",
       "      <td>Slip-on</td>\n",
       "    </tr>\n",
       "    <tr>\n",
       "      <th>1</th>\n",
       "      <td>40993</td>\n",
       "      <td>Slip on</td>\n",
       "    </tr>\n",
       "    <tr>\n",
       "      <th>2</th>\n",
       "      <td>40113</td>\n",
       "      <td>Lace Up</td>\n",
       "    </tr>\n",
       "    <tr>\n",
       "      <th>3</th>\n",
       "      <td>40113</td>\n",
       "      <td>Lace Up</td>\n",
       "    </tr>\n",
       "    <tr>\n",
       "      <th>4</th>\n",
       "      <td>4130/110</td>\n",
       "      <td>Slip-on</td>\n",
       "    </tr>\n",
       "    <tr>\n",
       "      <th>...</th>\n",
       "      <td>...</td>\n",
       "      <td>...</td>\n",
       "    </tr>\n",
       "    <tr>\n",
       "      <th>1754</th>\n",
       "      <td>67722</td>\n",
       "      <td>Lace-Ups</td>\n",
       "    </tr>\n",
       "    <tr>\n",
       "      <th>1755</th>\n",
       "      <td>67632</td>\n",
       "      <td>Lace-Ups</td>\n",
       "    </tr>\n",
       "    <tr>\n",
       "      <th>1756</th>\n",
       "      <td>67800</td>\n",
       "      <td>Lace-Ups</td>\n",
       "    </tr>\n",
       "    <tr>\n",
       "      <th>1757</th>\n",
       "      <td>67800</td>\n",
       "      <td>Lace-Ups</td>\n",
       "    </tr>\n",
       "    <tr>\n",
       "      <th>1758</th>\n",
       "      <td>67255</td>\n",
       "      <td>Slip-on</td>\n",
       "    </tr>\n",
       "  </tbody>\n",
       "</table>\n",
       "<p>1759 rows × 2 columns</p>\n",
       "</div>"
      ],
      "text/plain": [
       "     ArticleName Fastening\n",
       "0          80782   Slip-on\n",
       "1          40993   Slip on\n",
       "2          40113   Lace Up\n",
       "3          40113   Lace Up\n",
       "4       4130/110   Slip-on\n",
       "...          ...       ...\n",
       "1754       67722  Lace-Ups\n",
       "1755       67632  Lace-Ups\n",
       "1756       67800  Lace-Ups\n",
       "1757       67800  Lace-Ups\n",
       "1758       67255   Slip-on\n",
       "\n",
       "[1759 rows x 2 columns]"
      ]
     },
     "execution_count": 3,
     "metadata": {},
     "output_type": "execute_result"
    }
   ],
   "source": [
    "fastening_final['ArticleName'] = [i.split(\" \")[0] for i in fastening_final['ArticleName']]\n",
    "fastening_final"
   ]
  },
  {
   "cell_type": "code",
   "execution_count": 4,
   "metadata": {},
   "outputs": [
    {
     "data": {
      "text/plain": [
       "['SLIP-ON',\n",
       " 'SLIP ON',\n",
       " 'LACE UP',\n",
       " 'LACE-UPS',\n",
       " 'TOE GRIP SLIPPER',\n",
       " 'SANDAL',\n",
       " 'SLIPPER',\n",
       " 'ANKLE BOOT',\n",
       " 'PUMPS',\n",
       " 'HALF BOOT',\n",
       " 'MEN SHOE',\n",
       " 'BUCKLE',\n",
       " 'SANDAL SHOE',\n",
       " 'BOOT',\n",
       " 'DOUBLE MONK',\n",
       " 'LACE-UP',\n",
       " 'SLIPPERS',\n",
       " 'VALCRO',\n",
       " \"MONK SHOE'S\",\n",
       " 'BACK STRAP',\n",
       " 'MONK']"
      ]
     },
     "execution_count": 4,
     "metadata": {},
     "output_type": "execute_result"
    }
   ],
   "source": [
    "list(pd.Series([i.upper() for i in fastening_final['Fastening']]).unique())"
   ]
  },
  {
   "cell_type": "code",
   "execution_count": 5,
   "metadata": {},
   "outputs": [
    {
     "data": {
      "text/html": [
       "<div>\n",
       "<style scoped>\n",
       "    .dataframe tbody tr th:only-of-type {\n",
       "        vertical-align: middle;\n",
       "    }\n",
       "\n",
       "    .dataframe tbody tr th {\n",
       "        vertical-align: top;\n",
       "    }\n",
       "\n",
       "    .dataframe thead th {\n",
       "        text-align: right;\n",
       "    }\n",
       "</style>\n",
       "<table border=\"1\" class=\"dataframe\">\n",
       "  <thead>\n",
       "    <tr style=\"text-align: right;\">\n",
       "      <th></th>\n",
       "      <th>ArticleName</th>\n",
       "      <th>Fastening</th>\n",
       "    </tr>\n",
       "  </thead>\n",
       "  <tbody>\n",
       "    <tr>\n",
       "      <th>0</th>\n",
       "      <td>80782</td>\n",
       "      <td>SLIP-ON</td>\n",
       "    </tr>\n",
       "    <tr>\n",
       "      <th>1</th>\n",
       "      <td>40993</td>\n",
       "      <td>SLIP ON</td>\n",
       "    </tr>\n",
       "    <tr>\n",
       "      <th>2</th>\n",
       "      <td>40113</td>\n",
       "      <td>LACE UP</td>\n",
       "    </tr>\n",
       "    <tr>\n",
       "      <th>3</th>\n",
       "      <td>40113</td>\n",
       "      <td>LACE UP</td>\n",
       "    </tr>\n",
       "    <tr>\n",
       "      <th>4</th>\n",
       "      <td>4130/110</td>\n",
       "      <td>SLIP-ON</td>\n",
       "    </tr>\n",
       "    <tr>\n",
       "      <th>...</th>\n",
       "      <td>...</td>\n",
       "      <td>...</td>\n",
       "    </tr>\n",
       "    <tr>\n",
       "      <th>1754</th>\n",
       "      <td>67722</td>\n",
       "      <td>LACE-UPS</td>\n",
       "    </tr>\n",
       "    <tr>\n",
       "      <th>1755</th>\n",
       "      <td>67632</td>\n",
       "      <td>LACE-UPS</td>\n",
       "    </tr>\n",
       "    <tr>\n",
       "      <th>1756</th>\n",
       "      <td>67800</td>\n",
       "      <td>LACE-UPS</td>\n",
       "    </tr>\n",
       "    <tr>\n",
       "      <th>1757</th>\n",
       "      <td>67800</td>\n",
       "      <td>LACE-UPS</td>\n",
       "    </tr>\n",
       "    <tr>\n",
       "      <th>1758</th>\n",
       "      <td>67255</td>\n",
       "      <td>SLIP-ON</td>\n",
       "    </tr>\n",
       "  </tbody>\n",
       "</table>\n",
       "<p>1759 rows × 2 columns</p>\n",
       "</div>"
      ],
      "text/plain": [
       "     ArticleName Fastening\n",
       "0          80782   SLIP-ON\n",
       "1          40993   SLIP ON\n",
       "2          40113   LACE UP\n",
       "3          40113   LACE UP\n",
       "4       4130/110   SLIP-ON\n",
       "...          ...       ...\n",
       "1754       67722  LACE-UPS\n",
       "1755       67632  LACE-UPS\n",
       "1756       67800  LACE-UPS\n",
       "1757       67800  LACE-UPS\n",
       "1758       67255   SLIP-ON\n",
       "\n",
       "[1759 rows x 2 columns]"
      ]
     },
     "execution_count": 5,
     "metadata": {},
     "output_type": "execute_result"
    }
   ],
   "source": [
    "fastening_final['Fastening'] = fastening_final['Fastening'].str.upper()\n",
    "fastening_final"
   ]
  },
  {
   "cell_type": "code",
   "execution_count": 6,
   "metadata": {},
   "outputs": [],
   "source": [
    "fastening_final['Fastening'] = fastening_final['Fastening'].str.replace('SLIP ON', 'SLIP-ON')\n",
    "fastening_final['Fastening'] = fastening_final['Fastening'].str.replace('LACE UP', 'LACE-UP')\n",
    "fastening_final['Fastening'] = fastening_final['Fastening'].str.replace('LACE-UPS', 'LACE-UP')\n",
    "fastening_final['Fastening'] = fastening_final['Fastening'].str.replace('SLIPPERS', 'SLIPPER')\n"
   ]
  },
  {
   "cell_type": "code",
   "execution_count": 7,
   "metadata": {},
   "outputs": [
    {
     "data": {
      "text/plain": [
       "['SLIP-ON',\n",
       " 'LACE-UP',\n",
       " 'TOE GRIP SLIPPER',\n",
       " 'SANDAL',\n",
       " 'SLIPPER',\n",
       " 'ANKLE BOOT',\n",
       " 'PUMPS',\n",
       " 'HALF BOOT',\n",
       " 'MEN SHOE',\n",
       " 'BUCKLE',\n",
       " 'SANDAL SHOE',\n",
       " 'BOOT',\n",
       " 'DOUBLE MONK',\n",
       " 'VALCRO',\n",
       " \"MONK SHOE'S\",\n",
       " 'BACK STRAP',\n",
       " 'MONK']"
      ]
     },
     "execution_count": 7,
     "metadata": {},
     "output_type": "execute_result"
    }
   ],
   "source": [
    "list(fastening_final['Fastening'].unique())"
   ]
  },
  {
   "cell_type": "code",
   "execution_count": 8,
   "metadata": {},
   "outputs": [
    {
     "data": {
      "text/plain": [
       "17"
      ]
     },
     "execution_count": 8,
     "metadata": {},
     "output_type": "execute_result"
    }
   ],
   "source": [
    "len(fastening_final['Fastening'].unique())"
   ]
  },
  {
   "cell_type": "code",
   "execution_count": 10,
   "metadata": {},
   "outputs": [
    {
     "data": {
      "text/plain": [
       "SLIP-ON             972\n",
       "LACE-UP             545\n",
       "SLIPPER             120\n",
       "SANDAL               49\n",
       "VALCRO               22\n",
       "BUCKLE               14\n",
       "ANKLE BOOT           12\n",
       "MEN SHOE              7\n",
       "TOE GRIP SLIPPER      6\n",
       "MONK                  2\n",
       "HALF BOOT             2\n",
       "DOUBLE MONK           2\n",
       "SANDAL SHOE           2\n",
       "BACK STRAP            1\n",
       "PUMPS                 1\n",
       "MONK SHOE'S           1\n",
       "BOOT                  1\n",
       "Name: Fastening, dtype: int64"
      ]
     },
     "execution_count": 10,
     "metadata": {},
     "output_type": "execute_result"
    }
   ],
   "source": [
    "fastening_final['Fastening'].value_counts()"
   ]
  },
  {
   "cell_type": "code",
   "execution_count": null,
   "metadata": {},
   "outputs": [],
   "source": []
  }
 ],
 "metadata": {
  "kernelspec": {
   "display_name": "Python 3",
   "language": "python",
   "name": "python3"
  },
  "language_info": {
   "codemirror_mode": {
    "name": "ipython",
    "version": 3
   },
   "file_extension": ".py",
   "mimetype": "text/x-python",
   "name": "python",
   "nbconvert_exporter": "python",
   "pygments_lexer": "ipython3",
   "version": "3.7.7"
  }
 },
 "nbformat": 4,
 "nbformat_minor": 4
}
