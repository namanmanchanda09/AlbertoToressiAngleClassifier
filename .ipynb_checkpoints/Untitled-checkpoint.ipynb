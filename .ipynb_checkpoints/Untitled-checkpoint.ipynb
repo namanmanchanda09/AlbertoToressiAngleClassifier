{
 "cells": [
  {
   "cell_type": "code",
   "execution_count": 1,
   "metadata": {},
   "outputs": [],
   "source": [
    "import pandas as pd\n",
    "import numpy as np"
   ]
  },
  {
   "cell_type": "code",
   "execution_count": 31,
   "metadata": {},
   "outputs": [],
   "source": [
    "df = pd.read_excel('article.xlsx',skiprows = [0])"
   ]
  },
  {
   "cell_type": "code",
   "execution_count": 32,
   "metadata": {},
   "outputs": [
    {
     "data": {
      "text/html": [
       "<div>\n",
       "<style scoped>\n",
       "    .dataframe tbody tr th:only-of-type {\n",
       "        vertical-align: middle;\n",
       "    }\n",
       "\n",
       "    .dataframe tbody tr th {\n",
       "        vertical-align: top;\n",
       "    }\n",
       "\n",
       "    .dataframe thead th {\n",
       "        text-align: right;\n",
       "    }\n",
       "</style>\n",
       "<table border=\"1\" class=\"dataframe\">\n",
       "  <thead>\n",
       "    <tr style=\"text-align: right;\">\n",
       "      <th></th>\n",
       "      <th>Unnamed: 0</th>\n",
       "      <th>ArticleId</th>\n",
       "      <th>ArticleName</th>\n",
       "      <th>M_L_C</th>\n",
       "      <th>Shoe Type</th>\n",
       "    </tr>\n",
       "  </thead>\n",
       "  <tbody>\n",
       "    <tr>\n",
       "      <th>0</th>\n",
       "      <td>NaN</td>\n",
       "      <td>603</td>\n",
       "      <td>10 MIX</td>\n",
       "      <td>M</td>\n",
       "      <td>SANDAL</td>\n",
       "    </tr>\n",
       "    <tr>\n",
       "      <th>1</th>\n",
       "      <td>NaN</td>\n",
       "      <td>2779</td>\n",
       "      <td>10 MIX</td>\n",
       "      <td>M</td>\n",
       "      <td>SANDAL</td>\n",
       "    </tr>\n",
       "    <tr>\n",
       "      <th>2</th>\n",
       "      <td>NaN</td>\n",
       "      <td>1636</td>\n",
       "      <td>10 MIX 2ND GRADE STOCK</td>\n",
       "      <td>M</td>\n",
       "      <td>SANDAL</td>\n",
       "    </tr>\n",
       "    <tr>\n",
       "      <th>3</th>\n",
       "      <td>NaN</td>\n",
       "      <td>3388</td>\n",
       "      <td>1059 DARK BLUE</td>\n",
       "      <td>L</td>\n",
       "      <td>SHOE</td>\n",
       "    </tr>\n",
       "    <tr>\n",
       "      <th>4</th>\n",
       "      <td>NaN</td>\n",
       "      <td>3389</td>\n",
       "      <td>1059 TAN</td>\n",
       "      <td>L</td>\n",
       "      <td>SHOE</td>\n",
       "    </tr>\n",
       "  </tbody>\n",
       "</table>\n",
       "</div>"
      ],
      "text/plain": [
       "   Unnamed: 0  ArticleId             ArticleName M_L_C Shoe Type\n",
       "0         NaN        603                  10 MIX     M    SANDAL\n",
       "1         NaN       2779                  10 MIX     M    SANDAL\n",
       "2         NaN       1636  10 MIX 2ND GRADE STOCK     M    SANDAL\n",
       "3         NaN       3388          1059 DARK BLUE     L      SHOE\n",
       "4         NaN       3389                1059 TAN     L      SHOE"
      ]
     },
     "execution_count": 32,
     "metadata": {},
     "output_type": "execute_result"
    }
   ],
   "source": [
    "df.head()"
   ]
  },
  {
   "cell_type": "code",
   "execution_count": 33,
   "metadata": {},
   "outputs": [
    {
     "data": {
      "text/plain": [
       "(4979, 5)"
      ]
     },
     "execution_count": 33,
     "metadata": {},
     "output_type": "execute_result"
    }
   ],
   "source": [
    "df.shape"
   ]
  },
  {
   "cell_type": "code",
   "execution_count": 35,
   "metadata": {},
   "outputs": [
    {
     "data": {
      "text/html": [
       "<div>\n",
       "<style scoped>\n",
       "    .dataframe tbody tr th:only-of-type {\n",
       "        vertical-align: middle;\n",
       "    }\n",
       "\n",
       "    .dataframe tbody tr th {\n",
       "        vertical-align: top;\n",
       "    }\n",
       "\n",
       "    .dataframe thead th {\n",
       "        text-align: right;\n",
       "    }\n",
       "</style>\n",
       "<table border=\"1\" class=\"dataframe\">\n",
       "  <thead>\n",
       "    <tr style=\"text-align: right;\">\n",
       "      <th></th>\n",
       "      <th>Unnamed: 0</th>\n",
       "      <th>ArticleId</th>\n",
       "      <th>ArticleName</th>\n",
       "      <th>M_L_C</th>\n",
       "      <th>Shoe Type</th>\n",
       "    </tr>\n",
       "  </thead>\n",
       "  <tbody>\n",
       "    <tr>\n",
       "      <th>0</th>\n",
       "      <td>NaN</td>\n",
       "      <td>603</td>\n",
       "      <td>10 MIX</td>\n",
       "      <td>M</td>\n",
       "      <td>SANDAL</td>\n",
       "    </tr>\n",
       "    <tr>\n",
       "      <th>1</th>\n",
       "      <td>NaN</td>\n",
       "      <td>2779</td>\n",
       "      <td>10 MIX</td>\n",
       "      <td>M</td>\n",
       "      <td>SANDAL</td>\n",
       "    </tr>\n",
       "    <tr>\n",
       "      <th>2</th>\n",
       "      <td>NaN</td>\n",
       "      <td>1636</td>\n",
       "      <td>10 MIX 2ND GRADE STOCK</td>\n",
       "      <td>M</td>\n",
       "      <td>SANDAL</td>\n",
       "    </tr>\n",
       "    <tr>\n",
       "      <th>3</th>\n",
       "      <td>NaN</td>\n",
       "      <td>3388</td>\n",
       "      <td>1059 DARK BLUE</td>\n",
       "      <td>L</td>\n",
       "      <td>SHOE</td>\n",
       "    </tr>\n",
       "    <tr>\n",
       "      <th>4</th>\n",
       "      <td>NaN</td>\n",
       "      <td>3389</td>\n",
       "      <td>1059 TAN</td>\n",
       "      <td>L</td>\n",
       "      <td>SHOE</td>\n",
       "    </tr>\n",
       "  </tbody>\n",
       "</table>\n",
       "</div>"
      ],
      "text/plain": [
       "   Unnamed: 0  ArticleId             ArticleName M_L_C Shoe Type\n",
       "0         NaN        603                  10 MIX     M    SANDAL\n",
       "1         NaN       2779                  10 MIX     M    SANDAL\n",
       "2         NaN       1636  10 MIX 2ND GRADE STOCK     M    SANDAL\n",
       "3         NaN       3388          1059 DARK BLUE     L      SHOE\n",
       "4         NaN       3389                1059 TAN     L      SHOE"
      ]
     },
     "execution_count": 35,
     "metadata": {},
     "output_type": "execute_result"
    }
   ],
   "source": [
    "df.iloc[0:5]"
   ]
  },
  {
   "cell_type": "code",
   "execution_count": 37,
   "metadata": {},
   "outputs": [],
   "source": [
    "df = df.iloc[:,1:5]"
   ]
  },
  {
   "cell_type": "code",
   "execution_count": 60,
   "metadata": {},
   "outputs": [
    {
     "data": {
      "text/html": [
       "<div>\n",
       "<style scoped>\n",
       "    .dataframe tbody tr th:only-of-type {\n",
       "        vertical-align: middle;\n",
       "    }\n",
       "\n",
       "    .dataframe tbody tr th {\n",
       "        vertical-align: top;\n",
       "    }\n",
       "\n",
       "    .dataframe thead th {\n",
       "        text-align: right;\n",
       "    }\n",
       "</style>\n",
       "<table border=\"1\" class=\"dataframe\">\n",
       "  <thead>\n",
       "    <tr style=\"text-align: right;\">\n",
       "      <th></th>\n",
       "      <th>ArticleId</th>\n",
       "      <th>ArticleName</th>\n",
       "      <th>M_L_C</th>\n",
       "      <th>Shoe Type</th>\n",
       "    </tr>\n",
       "  </thead>\n",
       "  <tbody>\n",
       "    <tr>\n",
       "      <th>0</th>\n",
       "      <td>603</td>\n",
       "      <td>10 MIX</td>\n",
       "      <td>M</td>\n",
       "      <td>SANDAL</td>\n",
       "    </tr>\n",
       "    <tr>\n",
       "      <th>1</th>\n",
       "      <td>2779</td>\n",
       "      <td>10 MIX</td>\n",
       "      <td>M</td>\n",
       "      <td>SANDAL</td>\n",
       "    </tr>\n",
       "    <tr>\n",
       "      <th>2</th>\n",
       "      <td>1636</td>\n",
       "      <td>10 MIX 2ND GRADE STOCK</td>\n",
       "      <td>M</td>\n",
       "      <td>SANDAL</td>\n",
       "    </tr>\n",
       "    <tr>\n",
       "      <th>3</th>\n",
       "      <td>3388</td>\n",
       "      <td>1059 DARK BLUE</td>\n",
       "      <td>L</td>\n",
       "      <td>SHOE</td>\n",
       "    </tr>\n",
       "    <tr>\n",
       "      <th>4</th>\n",
       "      <td>3389</td>\n",
       "      <td>1059 TAN</td>\n",
       "      <td>L</td>\n",
       "      <td>SHOE</td>\n",
       "    </tr>\n",
       "  </tbody>\n",
       "</table>\n",
       "</div>"
      ],
      "text/plain": [
       "   ArticleId             ArticleName M_L_C Shoe Type\n",
       "0        603                  10 MIX     M    SANDAL\n",
       "1       2779                  10 MIX     M    SANDAL\n",
       "2       1636  10 MIX 2ND GRADE STOCK     M    SANDAL\n",
       "3       3388          1059 DARK BLUE     L      SHOE\n",
       "4       3389                1059 TAN     L      SHOE"
      ]
     },
     "execution_count": 60,
     "metadata": {},
     "output_type": "execute_result"
    }
   ],
   "source": [
    "df.head()"
   ]
  },
  {
   "cell_type": "code",
   "execution_count": 56,
   "metadata": {},
   "outputs": [
    {
     "data": {
      "text/plain": [
       "Shoe Type\n",
       "BOOT       1014\n",
       "ND           25\n",
       "SANDAL      307\n",
       "SHOE       2872\n",
       "SLIPPER     761\n",
       "Name: Shoe Type, dtype: int64"
      ]
     },
     "execution_count": 56,
     "metadata": {},
     "output_type": "execute_result"
    }
   ],
   "source": [
    "df.groupby('Shoe Type')['Shoe Type'].count()"
   ]
  },
  {
   "cell_type": "code",
   "execution_count": 149,
   "metadata": {},
   "outputs": [],
   "source": [
    "boot = df[df['Shoe Type'] == 'BOOT']\n",
    "sandal = df[df['Shoe Type'] == 'SANDAL']\n",
    "shoe = df[df['Shoe Type'] == 'SHOE']\n",
    "slipper = df[df['Shoe Type'] == 'SLIPPER']\n",
    "nd = df[df['Shoe Type'] == 'ND']"
   ]
  },
  {
   "cell_type": "code",
   "execution_count": 150,
   "metadata": {},
   "outputs": [
    {
     "name": "stdout",
     "output_type": "stream",
     "text": [
      "(1014, 4)\n",
      "(307, 4)\n",
      "(2872, 4)\n",
      "(761, 4)\n",
      "(25, 4)\n"
     ]
    }
   ],
   "source": [
    "print(boot.shape)\n",
    "print(sandal.shape)\n",
    "print(shoe.shape)\n",
    "print(slipper.shape)\n",
    "print(nd.shape)"
   ]
  },
  {
   "cell_type": "code",
   "execution_count": 151,
   "metadata": {},
   "outputs": [
    {
     "data": {
      "text/html": [
       "<div>\n",
       "<style scoped>\n",
       "    .dataframe tbody tr th:only-of-type {\n",
       "        vertical-align: middle;\n",
       "    }\n",
       "\n",
       "    .dataframe tbody tr th {\n",
       "        vertical-align: top;\n",
       "    }\n",
       "\n",
       "    .dataframe thead th {\n",
       "        text-align: right;\n",
       "    }\n",
       "</style>\n",
       "<table border=\"1\" class=\"dataframe\">\n",
       "  <thead>\n",
       "    <tr style=\"text-align: right;\">\n",
       "      <th></th>\n",
       "      <th>ArticleId</th>\n",
       "      <th>ArticleName</th>\n",
       "      <th>M_L_C</th>\n",
       "      <th>Shoe Type</th>\n",
       "    </tr>\n",
       "  </thead>\n",
       "  <tbody>\n",
       "    <tr>\n",
       "      <th>6</th>\n",
       "      <td>604</td>\n",
       "      <td>11 MIX</td>\n",
       "      <td>M</td>\n",
       "      <td>SLIPPER</td>\n",
       "    </tr>\n",
       "    <tr>\n",
       "      <th>9</th>\n",
       "      <td>359</td>\n",
       "      <td>1138/108  BROWN</td>\n",
       "      <td>L</td>\n",
       "      <td>SLIPPER</td>\n",
       "    </tr>\n",
       "    <tr>\n",
       "      <th>10</th>\n",
       "      <td>358</td>\n",
       "      <td>1138/108  RED</td>\n",
       "      <td>L</td>\n",
       "      <td>SLIPPER</td>\n",
       "    </tr>\n",
       "    <tr>\n",
       "      <th>38</th>\n",
       "      <td>1101</td>\n",
       "      <td>16 MIX CHAPPAL</td>\n",
       "      <td>M</td>\n",
       "      <td>SLIPPER</td>\n",
       "    </tr>\n",
       "    <tr>\n",
       "      <th>64</th>\n",
       "      <td>1127</td>\n",
       "      <td>20 MIX</td>\n",
       "      <td>M</td>\n",
       "      <td>SLIPPER</td>\n",
       "    </tr>\n",
       "  </tbody>\n",
       "</table>\n",
       "</div>"
      ],
      "text/plain": [
       "    ArticleId      ArticleName M_L_C Shoe Type\n",
       "6         604           11 MIX     M   SLIPPER\n",
       "9         359  1138/108  BROWN     L   SLIPPER\n",
       "10        358    1138/108  RED     L   SLIPPER\n",
       "38       1101   16 MIX CHAPPAL     M   SLIPPER\n",
       "64       1127           20 MIX     M   SLIPPER"
      ]
     },
     "execution_count": 151,
     "metadata": {},
     "output_type": "execute_result"
    }
   ],
   "source": [
    "slipper.head()"
   ]
  },
  {
   "cell_type": "code",
   "execution_count": 152,
   "metadata": {},
   "outputs": [],
   "source": [
    "def helper(row):\n",
    "    try:\n",
    "        row['Model'] = row['ArticleName'].split(' ')[0]\n",
    "    except AttributeError:\n",
    "        row['Model'] = row['ArticleName']\n",
    "    return row\n",
    "slipper = slipper.apply(helper,axis='columns')"
   ]
  },
  {
   "cell_type": "code",
   "execution_count": 153,
   "metadata": {},
   "outputs": [
    {
     "data": {
      "text/html": [
       "<div>\n",
       "<style scoped>\n",
       "    .dataframe tbody tr th:only-of-type {\n",
       "        vertical-align: middle;\n",
       "    }\n",
       "\n",
       "    .dataframe tbody tr th {\n",
       "        vertical-align: top;\n",
       "    }\n",
       "\n",
       "    .dataframe thead th {\n",
       "        text-align: right;\n",
       "    }\n",
       "</style>\n",
       "<table border=\"1\" class=\"dataframe\">\n",
       "  <thead>\n",
       "    <tr style=\"text-align: right;\">\n",
       "      <th></th>\n",
       "      <th>ArticleId</th>\n",
       "      <th>ArticleName</th>\n",
       "      <th>M_L_C</th>\n",
       "      <th>Shoe Type</th>\n",
       "      <th>Model</th>\n",
       "    </tr>\n",
       "  </thead>\n",
       "  <tbody>\n",
       "    <tr>\n",
       "      <th>6</th>\n",
       "      <td>604</td>\n",
       "      <td>11 MIX</td>\n",
       "      <td>M</td>\n",
       "      <td>SLIPPER</td>\n",
       "      <td>11</td>\n",
       "    </tr>\n",
       "    <tr>\n",
       "      <th>9</th>\n",
       "      <td>359</td>\n",
       "      <td>1138/108  BROWN</td>\n",
       "      <td>L</td>\n",
       "      <td>SLIPPER</td>\n",
       "      <td>1138/108</td>\n",
       "    </tr>\n",
       "    <tr>\n",
       "      <th>10</th>\n",
       "      <td>358</td>\n",
       "      <td>1138/108  RED</td>\n",
       "      <td>L</td>\n",
       "      <td>SLIPPER</td>\n",
       "      <td>1138/108</td>\n",
       "    </tr>\n",
       "    <tr>\n",
       "      <th>38</th>\n",
       "      <td>1101</td>\n",
       "      <td>16 MIX CHAPPAL</td>\n",
       "      <td>M</td>\n",
       "      <td>SLIPPER</td>\n",
       "      <td>16</td>\n",
       "    </tr>\n",
       "    <tr>\n",
       "      <th>64</th>\n",
       "      <td>1127</td>\n",
       "      <td>20 MIX</td>\n",
       "      <td>M</td>\n",
       "      <td>SLIPPER</td>\n",
       "      <td>20</td>\n",
       "    </tr>\n",
       "  </tbody>\n",
       "</table>\n",
       "</div>"
      ],
      "text/plain": [
       "    ArticleId      ArticleName M_L_C Shoe Type     Model\n",
       "6         604           11 MIX     M   SLIPPER        11\n",
       "9         359  1138/108  BROWN     L   SLIPPER  1138/108\n",
       "10        358    1138/108  RED     L   SLIPPER  1138/108\n",
       "38       1101   16 MIX CHAPPAL     M   SLIPPER        16\n",
       "64       1127           20 MIX     M   SLIPPER        20"
      ]
     },
     "execution_count": 153,
     "metadata": {},
     "output_type": "execute_result"
    }
   ],
   "source": [
    "slipper.head()"
   ]
  },
  {
   "cell_type": "code",
   "execution_count": 155,
   "metadata": {},
   "outputs": [
    {
     "data": {
      "text/plain": [
       "array(['11', '1138/108', '16', '20', '41002', '43752', '46337', '46822',\n",
       "       '51107', '51109', '54382', '58942', '59263', '59264', '59265',\n",
       "       '59536', '59537', '59637', '60523', '60547', '60963', '61022',\n",
       "       '61047', '61052', '61075', '61202', '61276', '61485', '61521',\n",
       "       '61528', '61529', '62173', '62174', '62177', '62224', '62268',\n",
       "       '62510', '62511', '62518', '62524', '62526', '62527', '62536',\n",
       "       '62540', '62541', '62553', '62564', '62570', '63304', '63484',\n",
       "       '63496', '63594', '63597', '63609', '63610', '63615', '63628',\n",
       "       '63705', '63705(63702)', '63881', '64096', '64199', '64284',\n",
       "       '64304', '64344', '64346', '64610', '64656', '64694', '64697',\n",
       "       '64698', '64953', '65053', '65124', '65125', '65202', '65205',\n",
       "       '65941', '65946', '66484', '66922', '66923', '66924', '66925',\n",
       "       '67252', '67254', '67303', '67359', '67404', '67405', '67422',\n",
       "       '67426', '67427', '67617', '67619', '67620', '67621', '67622',\n",
       "       '67623', '80487', '81043', '81066', '81067', '81108', '81581',\n",
       "       '81582', '81584', '81670', '81777', '81780', '81795', '81798',\n",
       "       '81961', '81961-A', '81962', '81962-A', '81963', '81963-A',\n",
       "       '81974', '81975', '81976', '82000', '82002', '82055', '82217',\n",
       "       '82218', '82235', '82269', '82270', '82271', '82348', '82349',\n",
       "       '82463', '82464', '82467', '82468', '82473', '82481', '82509',\n",
       "       '82521', '82541', '82544', '82614', '82615', '82620', '82652',\n",
       "       '82657', '82658', '82694', '82698', '82699', '82702', '82703',\n",
       "       '82720', '82734', '82739', '82766', '82772', '82885', '82886',\n",
       "       '82935', '82941', '82954', '83018', '83019', '83137', '83281',\n",
       "       '83361', '83362', '83372', '83382', '83383', '83414', '83473',\n",
       "       '83505', '83529', '83666', '83677', '83678', '83679', '83683',\n",
       "       '83684', '83685', '83686', '83687', '83705', '83757', '83770',\n",
       "       '83771', '83802', '83819', '83820', '83822', '83827', '83868',\n",
       "       '84492', '84523', '84528', '84529', '84530', '85430', 85529,\n",
       "       '85583', '85652', '85654', '85672', '85702', '85714', '85741',\n",
       "       85742, '85742', '85743', '85744', '85745', '85746', '85747', 85750,\n",
       "       '85750', '85758', '85760', '85764', '85765', '85766', '85874',\n",
       "       '85877', '85878', '85884', '85953', '85982', '85996', '86090',\n",
       "       '86116', '86117', '86132', '86136', '86137', '86139', '86140',\n",
       "       '86142', '86143', '86176', '86177', '86178', 86192, '86192',\n",
       "       '86193', '86194', '86198', '86200', '86207', '86208', '86209',\n",
       "       '86220', '86221', '86222', '86334', '86336', '86340', '86414',\n",
       "       '86415', '86416', '86421', '86422', '86452', '86454', '86456',\n",
       "       '86459', '86471', '86496', '86502', '86508', '86510', '86534',\n",
       "       '86559', '86562', '86569', '86571', '86834', '86835', '86838',\n",
       "       '86860', '86890', '86891', '86892', '86894', '86898', '86909',\n",
       "       '86929', '86987', '86992', '87025', '87027', '87048', '87049',\n",
       "       '87050', '87051', '87052', '87053', '87054', '87055', '87056',\n",
       "       '87057', '88118', '88122', '88125', '88131', '88138', '88145',\n",
       "       '88148', '88161', '88162', '88163', '88164', '88165', '88166',\n",
       "       '88167', '88169', '88189', '88190', '88191', '88192', '88193',\n",
       "       '88194', '88214', '88237', '88238', '88253', '88261', '88268',\n",
       "       '88279', '88280', '88285', '88329', '88392', '88401', '88402',\n",
       "       '88416', '88417', '88418', '88420', '88421', '88422', '88428',\n",
       "       '88437', '88438', '88439', '88441', '88442', '88443', '88470',\n",
       "       '88471'], dtype=object)"
      ]
     },
     "execution_count": 155,
     "metadata": {},
     "output_type": "execute_result"
    }
   ],
   "source": [
    "slipper['Model'].unique()"
   ]
  },
  {
   "cell_type": "code",
   "execution_count": 156,
   "metadata": {},
   "outputs": [
    {
     "ename": "TypeError",
     "evalue": "(\"'int' object is not iterable\", 'occurred at index 3753')",
     "output_type": "error",
     "traceback": [
      "\u001b[0;31m---------------------------------------------------------------------------\u001b[0m",
      "\u001b[0;31mTypeError\u001b[0m                                 Traceback (most recent call last)",
      "\u001b[0;32m<ipython-input-156-39faf42d7684>\u001b[0m in \u001b[0;36m<module>\u001b[0;34m\u001b[0m\n\u001b[1;32m      7\u001b[0m             \u001b[0mnew\u001b[0m \u001b[0;34m=\u001b[0m \u001b[0mnew\u001b[0m \u001b[0;34m+\u001b[0m \u001b[0mi\u001b[0m\u001b[0;34m\u001b[0m\u001b[0;34m\u001b[0m\u001b[0m\n\u001b[1;32m      8\u001b[0m     \u001b[0mrow\u001b[0m\u001b[0;34m[\u001b[0m\u001b[0;34m'New'\u001b[0m\u001b[0;34m]\u001b[0m \u001b[0;34m=\u001b[0m \u001b[0mnew\u001b[0m\u001b[0;34m\u001b[0m\u001b[0;34m\u001b[0m\u001b[0m\n\u001b[0;32m----> 9\u001b[0;31m \u001b[0mcheck\u001b[0m \u001b[0;34m=\u001b[0m \u001b[0mslipper\u001b[0m\u001b[0;34m.\u001b[0m\u001b[0mapply\u001b[0m\u001b[0;34m(\u001b[0m\u001b[0mhelper\u001b[0m\u001b[0;34m,\u001b[0m\u001b[0maxis\u001b[0m\u001b[0;34m=\u001b[0m\u001b[0;34m'columns'\u001b[0m\u001b[0;34m)\u001b[0m\u001b[0;34m\u001b[0m\u001b[0;34m\u001b[0m\u001b[0m\n\u001b[0m",
      "\u001b[0;32m/opt/anaconda3/envs/mytfenv/lib/python3.7/site-packages/pandas/core/frame.py\u001b[0m in \u001b[0;36mapply\u001b[0;34m(self, func, axis, broadcast, raw, reduce, result_type, args, **kwds)\u001b[0m\n\u001b[1;32m   6926\u001b[0m             \u001b[0mkwds\u001b[0m\u001b[0;34m=\u001b[0m\u001b[0mkwds\u001b[0m\u001b[0;34m,\u001b[0m\u001b[0;34m\u001b[0m\u001b[0;34m\u001b[0m\u001b[0m\n\u001b[1;32m   6927\u001b[0m         )\n\u001b[0;32m-> 6928\u001b[0;31m         \u001b[0;32mreturn\u001b[0m \u001b[0mop\u001b[0m\u001b[0;34m.\u001b[0m\u001b[0mget_result\u001b[0m\u001b[0;34m(\u001b[0m\u001b[0;34m)\u001b[0m\u001b[0;34m\u001b[0m\u001b[0;34m\u001b[0m\u001b[0m\n\u001b[0m\u001b[1;32m   6929\u001b[0m \u001b[0;34m\u001b[0m\u001b[0m\n\u001b[1;32m   6930\u001b[0m     \u001b[0;32mdef\u001b[0m \u001b[0mapplymap\u001b[0m\u001b[0;34m(\u001b[0m\u001b[0mself\u001b[0m\u001b[0;34m,\u001b[0m \u001b[0mfunc\u001b[0m\u001b[0;34m)\u001b[0m\u001b[0;34m:\u001b[0m\u001b[0;34m\u001b[0m\u001b[0;34m\u001b[0m\u001b[0m\n",
      "\u001b[0;32m/opt/anaconda3/envs/mytfenv/lib/python3.7/site-packages/pandas/core/apply.py\u001b[0m in \u001b[0;36mget_result\u001b[0;34m(self)\u001b[0m\n\u001b[1;32m    184\u001b[0m             \u001b[0;32mreturn\u001b[0m \u001b[0mself\u001b[0m\u001b[0;34m.\u001b[0m\u001b[0mapply_raw\u001b[0m\u001b[0;34m(\u001b[0m\u001b[0;34m)\u001b[0m\u001b[0;34m\u001b[0m\u001b[0;34m\u001b[0m\u001b[0m\n\u001b[1;32m    185\u001b[0m \u001b[0;34m\u001b[0m\u001b[0m\n\u001b[0;32m--> 186\u001b[0;31m         \u001b[0;32mreturn\u001b[0m \u001b[0mself\u001b[0m\u001b[0;34m.\u001b[0m\u001b[0mapply_standard\u001b[0m\u001b[0;34m(\u001b[0m\u001b[0;34m)\u001b[0m\u001b[0;34m\u001b[0m\u001b[0;34m\u001b[0m\u001b[0m\n\u001b[0m\u001b[1;32m    187\u001b[0m \u001b[0;34m\u001b[0m\u001b[0m\n\u001b[1;32m    188\u001b[0m     \u001b[0;32mdef\u001b[0m \u001b[0mapply_empty_result\u001b[0m\u001b[0;34m(\u001b[0m\u001b[0mself\u001b[0m\u001b[0;34m)\u001b[0m\u001b[0;34m:\u001b[0m\u001b[0;34m\u001b[0m\u001b[0;34m\u001b[0m\u001b[0m\n",
      "\u001b[0;32m/opt/anaconda3/envs/mytfenv/lib/python3.7/site-packages/pandas/core/apply.py\u001b[0m in \u001b[0;36mapply_standard\u001b[0;34m(self)\u001b[0m\n\u001b[1;32m    290\u001b[0m \u001b[0;34m\u001b[0m\u001b[0m\n\u001b[1;32m    291\u001b[0m         \u001b[0;31m# compute the result using the series generator\u001b[0m\u001b[0;34m\u001b[0m\u001b[0;34m\u001b[0m\u001b[0;34m\u001b[0m\u001b[0m\n\u001b[0;32m--> 292\u001b[0;31m         \u001b[0mself\u001b[0m\u001b[0;34m.\u001b[0m\u001b[0mapply_series_generator\u001b[0m\u001b[0;34m(\u001b[0m\u001b[0;34m)\u001b[0m\u001b[0;34m\u001b[0m\u001b[0;34m\u001b[0m\u001b[0m\n\u001b[0m\u001b[1;32m    293\u001b[0m \u001b[0;34m\u001b[0m\u001b[0m\n\u001b[1;32m    294\u001b[0m         \u001b[0;31m# wrap results\u001b[0m\u001b[0;34m\u001b[0m\u001b[0;34m\u001b[0m\u001b[0;34m\u001b[0m\u001b[0m\n",
      "\u001b[0;32m/opt/anaconda3/envs/mytfenv/lib/python3.7/site-packages/pandas/core/apply.py\u001b[0m in \u001b[0;36mapply_series_generator\u001b[0;34m(self)\u001b[0m\n\u001b[1;32m    319\u001b[0m             \u001b[0;32mtry\u001b[0m\u001b[0;34m:\u001b[0m\u001b[0;34m\u001b[0m\u001b[0;34m\u001b[0m\u001b[0m\n\u001b[1;32m    320\u001b[0m                 \u001b[0;32mfor\u001b[0m \u001b[0mi\u001b[0m\u001b[0;34m,\u001b[0m \u001b[0mv\u001b[0m \u001b[0;32min\u001b[0m \u001b[0menumerate\u001b[0m\u001b[0;34m(\u001b[0m\u001b[0mseries_gen\u001b[0m\u001b[0;34m)\u001b[0m\u001b[0;34m:\u001b[0m\u001b[0;34m\u001b[0m\u001b[0;34m\u001b[0m\u001b[0m\n\u001b[0;32m--> 321\u001b[0;31m                     \u001b[0mresults\u001b[0m\u001b[0;34m[\u001b[0m\u001b[0mi\u001b[0m\u001b[0;34m]\u001b[0m \u001b[0;34m=\u001b[0m \u001b[0mself\u001b[0m\u001b[0;34m.\u001b[0m\u001b[0mf\u001b[0m\u001b[0;34m(\u001b[0m\u001b[0mv\u001b[0m\u001b[0;34m)\u001b[0m\u001b[0;34m\u001b[0m\u001b[0;34m\u001b[0m\u001b[0m\n\u001b[0m\u001b[1;32m    322\u001b[0m                     \u001b[0mkeys\u001b[0m\u001b[0;34m.\u001b[0m\u001b[0mappend\u001b[0m\u001b[0;34m(\u001b[0m\u001b[0mv\u001b[0m\u001b[0;34m.\u001b[0m\u001b[0mname\u001b[0m\u001b[0;34m)\u001b[0m\u001b[0;34m\u001b[0m\u001b[0;34m\u001b[0m\u001b[0m\n\u001b[1;32m    323\u001b[0m             \u001b[0;32mexcept\u001b[0m \u001b[0mException\u001b[0m \u001b[0;32mas\u001b[0m \u001b[0me\u001b[0m\u001b[0;34m:\u001b[0m\u001b[0;34m\u001b[0m\u001b[0;34m\u001b[0m\u001b[0m\n",
      "\u001b[0;32m<ipython-input-156-39faf42d7684>\u001b[0m in \u001b[0;36mhelper\u001b[0;34m(row)\u001b[0m\n\u001b[1;32m      1\u001b[0m \u001b[0;32mdef\u001b[0m \u001b[0mhelper\u001b[0m\u001b[0;34m(\u001b[0m\u001b[0mrow\u001b[0m\u001b[0;34m)\u001b[0m\u001b[0;34m:\u001b[0m\u001b[0;34m\u001b[0m\u001b[0;34m\u001b[0m\u001b[0m\n\u001b[0;32m----> 2\u001b[0;31m     \u001b[0;32mfor\u001b[0m \u001b[0mi\u001b[0m \u001b[0;32min\u001b[0m \u001b[0mrow\u001b[0m\u001b[0;34m[\u001b[0m\u001b[0;34m'Model'\u001b[0m\u001b[0;34m]\u001b[0m\u001b[0;34m:\u001b[0m\u001b[0;34m\u001b[0m\u001b[0;34m\u001b[0m\u001b[0m\n\u001b[0m\u001b[1;32m      3\u001b[0m         \u001b[0mnew\u001b[0m \u001b[0;34m=\u001b[0m \u001b[0;34m''\u001b[0m\u001b[0;34m\u001b[0m\u001b[0;34m\u001b[0m\u001b[0m\n\u001b[1;32m      4\u001b[0m         \u001b[0;32mif\u001b[0m\u001b[0;34m(\u001b[0m\u001b[0mi\u001b[0m\u001b[0;34m.\u001b[0m\u001b[0misdigit\u001b[0m\u001b[0;34m(\u001b[0m\u001b[0;34m)\u001b[0m\u001b[0;34m==\u001b[0m\u001b[0;32mFalse\u001b[0m\u001b[0;34m)\u001b[0m\u001b[0;34m:\u001b[0m\u001b[0;34m\u001b[0m\u001b[0;34m\u001b[0m\u001b[0m\n\u001b[1;32m      5\u001b[0m             \u001b[0;32mbreak\u001b[0m\u001b[0;34m\u001b[0m\u001b[0;34m\u001b[0m\u001b[0m\n",
      "\u001b[0;31mTypeError\u001b[0m: (\"'int' object is not iterable\", 'occurred at index 3753')"
     ]
    }
   ],
   "source": [
    "def helper(row):\n",
    "    try:\n",
    "        \n",
    "        for i in row['Model']:\n",
    "            new = ''\n",
    "            if(i.isdigit()==False):\n",
    "                break\n",
    "            else:\n",
    "                new = new + i\n",
    "    except TypeError:\n",
    "        row['New'] = i\n",
    "        \n",
    "    row['New'] = new\n",
    "check = slipper.apply(helper,axis='columns')"
   ]
  },
  {
   "cell_type": "code",
   "execution_count": null,
   "metadata": {},
   "outputs": [],
   "source": []
  }
 ],
 "metadata": {
  "kernelspec": {
   "display_name": "Python 3",
   "language": "python",
   "name": "python3"
  },
  "language_info": {
   "codemirror_mode": {
    "name": "ipython",
    "version": 3
   },
   "file_extension": ".py",
   "mimetype": "text/x-python",
   "name": "python",
   "nbconvert_exporter": "python",
   "pygments_lexer": "ipython3",
   "version": "3.7.6"
  }
 },
 "nbformat": 4,
 "nbformat_minor": 4
}
