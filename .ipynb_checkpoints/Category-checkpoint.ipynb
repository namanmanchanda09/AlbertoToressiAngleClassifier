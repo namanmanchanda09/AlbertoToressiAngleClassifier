{
 "cells": [
  {
   "cell_type": "code",
   "execution_count": 68,
   "metadata": {},
   "outputs": [],
   "source": [
    "import pandas as pd\n",
    "import numpy as np"
   ]
  },
  {
   "cell_type": "code",
   "execution_count": 69,
   "metadata": {},
   "outputs": [],
   "source": [
    "df = pd.read_excel('Category.xlsx')"
   ]
  },
  {
   "cell_type": "code",
   "execution_count": 70,
   "metadata": {},
   "outputs": [
    {
     "data": {
      "text/html": [
       "<div>\n",
       "<style scoped>\n",
       "    .dataframe tbody tr th:only-of-type {\n",
       "        vertical-align: middle;\n",
       "    }\n",
       "\n",
       "    .dataframe tbody tr th {\n",
       "        vertical-align: top;\n",
       "    }\n",
       "\n",
       "    .dataframe thead th {\n",
       "        text-align: right;\n",
       "    }\n",
       "</style>\n",
       "<table border=\"1\" class=\"dataframe\">\n",
       "  <thead>\n",
       "    <tr style=\"text-align: right;\">\n",
       "      <th></th>\n",
       "      <th>ArticleId</th>\n",
       "      <th>ArticleName</th>\n",
       "      <th>Category</th>\n",
       "    </tr>\n",
       "  </thead>\n",
       "  <tbody>\n",
       "    <tr>\n",
       "      <th>0</th>\n",
       "      <td>165</td>\n",
       "      <td>40993 BLUE</td>\n",
       "      <td>SLIP ON SHOE</td>\n",
       "    </tr>\n",
       "    <tr>\n",
       "      <th>1</th>\n",
       "      <td>172</td>\n",
       "      <td>40113 BLACK</td>\n",
       "      <td>ANKLE BOOT</td>\n",
       "    </tr>\n",
       "    <tr>\n",
       "      <th>2</th>\n",
       "      <td>173</td>\n",
       "      <td>40113 DARK BROWN</td>\n",
       "      <td>HALF BOOT</td>\n",
       "    </tr>\n",
       "    <tr>\n",
       "      <th>3</th>\n",
       "      <td>426</td>\n",
       "      <td>4755/110  BRONZE + GOLDEN</td>\n",
       "      <td>Boot</td>\n",
       "    </tr>\n",
       "    <tr>\n",
       "      <th>4</th>\n",
       "      <td>533</td>\n",
       "      <td>80936 BLACK</td>\n",
       "      <td>SLIP ON SHOE</td>\n",
       "    </tr>\n",
       "  </tbody>\n",
       "</table>\n",
       "</div>"
      ],
      "text/plain": [
       "   ArticleId                ArticleName      Category\n",
       "0        165                 40993 BLUE  SLIP ON SHOE\n",
       "1        172                40113 BLACK    ANKLE BOOT\n",
       "2        173           40113 DARK BROWN     HALF BOOT\n",
       "3        426  4755/110  BRONZE + GOLDEN          Boot\n",
       "4        533                80936 BLACK  SLIP ON SHOE"
      ]
     },
     "execution_count": 70,
     "metadata": {},
     "output_type": "execute_result"
    }
   ],
   "source": [
    "df.head()"
   ]
  },
  {
   "cell_type": "code",
   "execution_count": 71,
   "metadata": {},
   "outputs": [],
   "source": [
    "df.drop(labels=['ArticleId'],axis=1,inplace=True)"
   ]
  },
  {
   "cell_type": "code",
   "execution_count": 72,
   "metadata": {},
   "outputs": [
    {
     "data": {
      "text/html": [
       "<div>\n",
       "<style scoped>\n",
       "    .dataframe tbody tr th:only-of-type {\n",
       "        vertical-align: middle;\n",
       "    }\n",
       "\n",
       "    .dataframe tbody tr th {\n",
       "        vertical-align: top;\n",
       "    }\n",
       "\n",
       "    .dataframe thead th {\n",
       "        text-align: right;\n",
       "    }\n",
       "</style>\n",
       "<table border=\"1\" class=\"dataframe\">\n",
       "  <thead>\n",
       "    <tr style=\"text-align: right;\">\n",
       "      <th></th>\n",
       "      <th>ArticleName</th>\n",
       "      <th>Category</th>\n",
       "    </tr>\n",
       "  </thead>\n",
       "  <tbody>\n",
       "    <tr>\n",
       "      <th>0</th>\n",
       "      <td>40993 BLUE</td>\n",
       "      <td>SLIP ON SHOE</td>\n",
       "    </tr>\n",
       "    <tr>\n",
       "      <th>1</th>\n",
       "      <td>40113 BLACK</td>\n",
       "      <td>ANKLE BOOT</td>\n",
       "    </tr>\n",
       "    <tr>\n",
       "      <th>2</th>\n",
       "      <td>40113 DARK BROWN</td>\n",
       "      <td>HALF BOOT</td>\n",
       "    </tr>\n",
       "    <tr>\n",
       "      <th>3</th>\n",
       "      <td>4755/110  BRONZE + GOLDEN</td>\n",
       "      <td>Boot</td>\n",
       "    </tr>\n",
       "    <tr>\n",
       "      <th>4</th>\n",
       "      <td>80936 BLACK</td>\n",
       "      <td>SLIP ON SHOE</td>\n",
       "    </tr>\n",
       "  </tbody>\n",
       "</table>\n",
       "</div>"
      ],
      "text/plain": [
       "                 ArticleName      Category\n",
       "0                 40993 BLUE  SLIP ON SHOE\n",
       "1                40113 BLACK    ANKLE BOOT\n",
       "2           40113 DARK BROWN     HALF BOOT\n",
       "3  4755/110  BRONZE + GOLDEN          Boot\n",
       "4                80936 BLACK  SLIP ON SHOE"
      ]
     },
     "execution_count": 72,
     "metadata": {},
     "output_type": "execute_result"
    }
   ],
   "source": [
    "df.head()"
   ]
  },
  {
   "cell_type": "code",
   "execution_count": 73,
   "metadata": {},
   "outputs": [
    {
     "data": {
      "text/plain": [
       "30"
      ]
     },
     "execution_count": 73,
     "metadata": {},
     "output_type": "execute_result"
    }
   ],
   "source": [
    "len(df[\"Category\"].value_counts())"
   ]
  },
  {
   "cell_type": "code",
   "execution_count": 74,
   "metadata": {},
   "outputs": [
    {
     "data": {
      "text/plain": [
       "SLIP ON SHOE        452\n",
       "LACE SHOE           391\n",
       "SLIPPER             207\n",
       "ANKLE BOOT          147\n",
       "CASUAL SHOES         91\n",
       "SANDAL               72\n",
       "MEN SHOE             62\n",
       "Boot                 50\n",
       "LACE UP              48\n",
       "Slipper              42\n",
       "SLIP ON              38\n",
       "Slip-On Sneakers     17\n",
       "LOAFER               13\n",
       "FORMAL SHOES         13\n",
       "TOE GRIP SLIPPER      7\n",
       "HALF BOOT             7\n",
       "ROMAN SANDAL          6\n",
       "MUELS                 4\n",
       "PUMPS                 4\n",
       "Lace-Up Shoes         3\n",
       "BOOTS                 3\n",
       "Slip-on Sneakers      2\n",
       "BOOT                  2\n",
       "Sliders               2\n",
       "Sneakers              2\n",
       "SLIPPERS              2\n",
       "Flip-Flops            2\n",
       "Monk Shoes            1\n",
       "Loafers               1\n",
       "Casual Shoes          1\n",
       "Name: Category, dtype: int64"
      ]
     },
     "execution_count": 74,
     "metadata": {},
     "output_type": "execute_result"
    }
   ],
   "source": [
    "df['Category'].value_counts()"
   ]
  },
  {
   "cell_type": "code",
   "execution_count": 84,
   "metadata": {},
   "outputs": [],
   "source": [
    "def helper(row):\n",
    "    if(row.Category == 'Slip-on Sneakers'):\n",
    "        row.Category = 'Slip-On Sneakers'\n",
    "    if(row.Category == 'Slipper'):\n",
    "        row.Category = 'SLIPPER'\n",
    "    if(row.Category == 'Loafers'):\n",
    "        row.Category = 'LOAFER'\n",
    "    if(row.Category == 'Slip-on Sneakers'):\n",
    "        row.Category = 'Slip-On Sneakers'\n",
    "    if(row.Category == 'BOOT' or row.Category == 'BOOTS'):\n",
    "        row.Category = 'Boot'\n",
    "    if(row.Category == 'SLIPPERS'):\n",
    "        row.Category = 'SLIPPER'\n",
    "    if(row.Category == 'Casual Shoes'):\n",
    "        row.Category = 'CASUAL SHOES'\n",
    "    if(row.Category == 'LACE UP' or row.Category == 'Lace-Up Shoes'):\n",
    "        row.Category = 'LACE SHOE'\n",
    "    if(row.Category == 'Slip-On Sneakers' or row.Category == 'SLIP ON'):\n",
    "        row.Category = 'SLIP ON SHOE'\n",
    "    return row\n",
    "df = df.apply(helper,axis='columns')"
   ]
  },
  {
   "cell_type": "code",
   "execution_count": 85,
   "metadata": {},
   "outputs": [
    {
     "data": {
      "text/plain": [
       "SLIP ON SHOE        509\n",
       "LACE SHOE           442\n",
       "SLIPPER             251\n",
       "ANKLE BOOT          147\n",
       "CASUAL SHOES         92\n",
       "SANDAL               72\n",
       "MEN SHOE             62\n",
       "Boot                 55\n",
       "LOAFER               14\n",
       "FORMAL SHOES         13\n",
       "TOE GRIP SLIPPER      7\n",
       "HALF BOOT             7\n",
       "ROMAN SANDAL          6\n",
       "PUMPS                 4\n",
       "MUELS                 4\n",
       "Flip-Flops            2\n",
       "Sneakers              2\n",
       "Sliders               2\n",
       "Monk Shoes            1\n",
       "Name: Category, dtype: int64"
      ]
     },
     "execution_count": 85,
     "metadata": {},
     "output_type": "execute_result"
    }
   ],
   "source": [
    "df['Category'].value_counts()"
   ]
  },
  {
   "cell_type": "code",
   "execution_count": 86,
   "metadata": {},
   "outputs": [
    {
     "data": {
      "text/plain": [
       "19"
      ]
     },
     "execution_count": 86,
     "metadata": {},
     "output_type": "execute_result"
    }
   ],
   "source": [
    "len(df['Category'].value_counts())"
   ]
  }
 ],
 "metadata": {
  "kernelspec": {
   "display_name": "Python 3",
   "language": "python",
   "name": "python3"
  },
  "language_info": {
   "codemirror_mode": {
    "name": "ipython",
    "version": 3
   },
   "file_extension": ".py",
   "mimetype": "text/x-python",
   "name": "python",
   "nbconvert_exporter": "python",
   "pygments_lexer": "ipython3",
   "version": "3.7.7"
  }
 },
 "nbformat": 4,
 "nbformat_minor": 4
}
