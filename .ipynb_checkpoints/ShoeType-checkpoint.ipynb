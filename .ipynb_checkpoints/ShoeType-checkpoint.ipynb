{
 "cells": [
  {
   "cell_type": "code",
   "execution_count": 2,
   "metadata": {},
   "outputs": [],
   "source": [
    "import pandas as pd\n",
    "import numpy as np"
   ]
  },
  {
   "cell_type": "code",
   "execution_count": 3,
   "metadata": {},
   "outputs": [],
   "source": [
    "df = pd.read_excel('ShoeType.xlsx')"
   ]
  },
  {
   "cell_type": "code",
   "execution_count": 4,
   "metadata": {},
   "outputs": [],
   "source": [
    "df.drop(labels = ['ArticleId'],axis=1,inplace=True)"
   ]
  },
  {
   "cell_type": "code",
   "execution_count": 5,
   "metadata": {},
   "outputs": [
    {
     "data": {
      "text/html": [
       "<div>\n",
       "<style scoped>\n",
       "    .dataframe tbody tr th:only-of-type {\n",
       "        vertical-align: middle;\n",
       "    }\n",
       "\n",
       "    .dataframe tbody tr th {\n",
       "        vertical-align: top;\n",
       "    }\n",
       "\n",
       "    .dataframe thead th {\n",
       "        text-align: right;\n",
       "    }\n",
       "</style>\n",
       "<table border=\"1\" class=\"dataframe\">\n",
       "  <thead>\n",
       "    <tr style=\"text-align: right;\">\n",
       "      <th></th>\n",
       "      <th>ArticleName</th>\n",
       "      <th>ShoeTypeName</th>\n",
       "    </tr>\n",
       "  </thead>\n",
       "  <tbody>\n",
       "    <tr>\n",
       "      <th>0</th>\n",
       "      <td>62619 TAN</td>\n",
       "      <td>SLIP ON SHOE</td>\n",
       "    </tr>\n",
       "    <tr>\n",
       "      <th>1</th>\n",
       "      <td>62619 BROWN</td>\n",
       "      <td>SLIP ON SHOE</td>\n",
       "    </tr>\n",
       "    <tr>\n",
       "      <th>2</th>\n",
       "      <td>62620 TAN</td>\n",
       "      <td>LACE SHOE</td>\n",
       "    </tr>\n",
       "    <tr>\n",
       "      <th>3</th>\n",
       "      <td>62620 BLACK</td>\n",
       "      <td>LACE SHOE</td>\n",
       "    </tr>\n",
       "    <tr>\n",
       "      <th>4</th>\n",
       "      <td>62621 TAN</td>\n",
       "      <td>LACE SHOE</td>\n",
       "    </tr>\n",
       "    <tr>\n",
       "      <th>5</th>\n",
       "      <td>62621 BLACK</td>\n",
       "      <td>LACE SHOE</td>\n",
       "    </tr>\n",
       "    <tr>\n",
       "      <th>6</th>\n",
       "      <td>62622 BLACK</td>\n",
       "      <td>LACE SHOE</td>\n",
       "    </tr>\n",
       "    <tr>\n",
       "      <th>7</th>\n",
       "      <td>62622 TAN</td>\n",
       "      <td>LACE SHOE</td>\n",
       "    </tr>\n",
       "    <tr>\n",
       "      <th>8</th>\n",
       "      <td>62261 BLACK</td>\n",
       "      <td>LACE SHOE</td>\n",
       "    </tr>\n",
       "    <tr>\n",
       "      <th>9</th>\n",
       "      <td>62261 BROWN</td>\n",
       "      <td>LACE SHOE</td>\n",
       "    </tr>\n",
       "    <tr>\n",
       "      <th>10</th>\n",
       "      <td>62259  TAN</td>\n",
       "      <td>LACE SHOE</td>\n",
       "    </tr>\n",
       "    <tr>\n",
       "      <th>11</th>\n",
       "      <td>62555 BLACK</td>\n",
       "      <td>SLIP ON SHOE</td>\n",
       "    </tr>\n",
       "    <tr>\n",
       "      <th>12</th>\n",
       "      <td>62550 BLACK</td>\n",
       "      <td>LACE SHOE</td>\n",
       "    </tr>\n",
       "    <tr>\n",
       "      <th>13</th>\n",
       "      <td>62401 TAN+TAN</td>\n",
       "      <td>ANKLE BOOT</td>\n",
       "    </tr>\n",
       "    <tr>\n",
       "      <th>14</th>\n",
       "      <td>62510 BLACK</td>\n",
       "      <td>SLIPPER</td>\n",
       "    </tr>\n",
       "    <tr>\n",
       "      <th>15</th>\n",
       "      <td>62529 DRESS BLUE+TAN</td>\n",
       "      <td>LACE SHOE</td>\n",
       "    </tr>\n",
       "    <tr>\n",
       "      <th>16</th>\n",
       "      <td>62558 RED</td>\n",
       "      <td>LACE SHOE</td>\n",
       "    </tr>\n",
       "    <tr>\n",
       "      <th>17</th>\n",
       "      <td>62559 BROWN+TAN</td>\n",
       "      <td>ANKLE BOOT</td>\n",
       "    </tr>\n",
       "    <tr>\n",
       "      <th>18</th>\n",
       "      <td>62560 TAN</td>\n",
       "      <td>SLIP ON SHOE</td>\n",
       "    </tr>\n",
       "    <tr>\n",
       "      <th>19</th>\n",
       "      <td>62561 COGNAC</td>\n",
       "      <td>SLIP ON SHOE</td>\n",
       "    </tr>\n",
       "  </tbody>\n",
       "</table>\n",
       "</div>"
      ],
      "text/plain": [
       "             ArticleName  ShoeTypeName\n",
       "0              62619 TAN  SLIP ON SHOE\n",
       "1            62619 BROWN  SLIP ON SHOE\n",
       "2              62620 TAN     LACE SHOE\n",
       "3            62620 BLACK     LACE SHOE\n",
       "4              62621 TAN     LACE SHOE\n",
       "5            62621 BLACK     LACE SHOE\n",
       "6            62622 BLACK     LACE SHOE\n",
       "7              62622 TAN     LACE SHOE\n",
       "8            62261 BLACK     LACE SHOE\n",
       "9            62261 BROWN     LACE SHOE\n",
       "10            62259  TAN     LACE SHOE\n",
       "11           62555 BLACK  SLIP ON SHOE\n",
       "12           62550 BLACK     LACE SHOE\n",
       "13         62401 TAN+TAN    ANKLE BOOT\n",
       "14           62510 BLACK       SLIPPER\n",
       "15  62529 DRESS BLUE+TAN     LACE SHOE\n",
       "16             62558 RED     LACE SHOE\n",
       "17       62559 BROWN+TAN    ANKLE BOOT\n",
       "18             62560 TAN  SLIP ON SHOE\n",
       "19          62561 COGNAC  SLIP ON SHOE"
      ]
     },
     "execution_count": 5,
     "metadata": {},
     "output_type": "execute_result"
    }
   ],
   "source": [
    "df.head(20)"
   ]
  },
  {
   "cell_type": "code",
   "execution_count": 6,
   "metadata": {},
   "outputs": [
    {
     "data": {
      "text/plain": [
       "SLIP ON SHOE        1329\n",
       "LACE SHOE           1262\n",
       "ANKLE BOOT           811\n",
       "SLIPPER              628\n",
       "SANDAL               288\n",
       "MEN SHOE             191\n",
       "HALF BOOT            171\n",
       "TOE GRIP SLIPPER     133\n",
       "LADY SHOES            93\n",
       "LONG BOOT             33\n",
       "BALLERINA             21\n",
       "ROMAN SANDAL          19\n",
       "PUMPS                  4\n",
       "VELCRO SHOE            2\n",
       "Name: ShoeTypeName, dtype: int64"
      ]
     },
     "execution_count": 6,
     "metadata": {},
     "output_type": "execute_result"
    }
   ],
   "source": [
    "df['ShoeTypeName'].value_counts()"
   ]
  },
  {
   "cell_type": "code",
   "execution_count": 8,
   "metadata": {},
   "outputs": [],
   "source": [
    "def helper(row):\n",
    "    try:\n",
    "        row['Model'] = row['ArticleName'].split(' ')[0]\n",
    "    except AttributeError:\n",
    "        row['Model'] = row['ArticleName']\n",
    "    return row\n",
    "df = df.apply(helper,axis='columns')"
   ]
  },
  {
   "cell_type": "code",
   "execution_count": 9,
   "metadata": {},
   "outputs": [
    {
     "data": {
      "text/html": [
       "<div>\n",
       "<style scoped>\n",
       "    .dataframe tbody tr th:only-of-type {\n",
       "        vertical-align: middle;\n",
       "    }\n",
       "\n",
       "    .dataframe tbody tr th {\n",
       "        vertical-align: top;\n",
       "    }\n",
       "\n",
       "    .dataframe thead th {\n",
       "        text-align: right;\n",
       "    }\n",
       "</style>\n",
       "<table border=\"1\" class=\"dataframe\">\n",
       "  <thead>\n",
       "    <tr style=\"text-align: right;\">\n",
       "      <th></th>\n",
       "      <th>ArticleName</th>\n",
       "      <th>ShoeTypeName</th>\n",
       "      <th>Model</th>\n",
       "    </tr>\n",
       "  </thead>\n",
       "  <tbody>\n",
       "    <tr>\n",
       "      <th>0</th>\n",
       "      <td>62619 TAN</td>\n",
       "      <td>SLIP ON SHOE</td>\n",
       "      <td>62619</td>\n",
       "    </tr>\n",
       "    <tr>\n",
       "      <th>1</th>\n",
       "      <td>62619 BROWN</td>\n",
       "      <td>SLIP ON SHOE</td>\n",
       "      <td>62619</td>\n",
       "    </tr>\n",
       "    <tr>\n",
       "      <th>2</th>\n",
       "      <td>62620 TAN</td>\n",
       "      <td>LACE SHOE</td>\n",
       "      <td>62620</td>\n",
       "    </tr>\n",
       "    <tr>\n",
       "      <th>3</th>\n",
       "      <td>62620 BLACK</td>\n",
       "      <td>LACE SHOE</td>\n",
       "      <td>62620</td>\n",
       "    </tr>\n",
       "    <tr>\n",
       "      <th>4</th>\n",
       "      <td>62621 TAN</td>\n",
       "      <td>LACE SHOE</td>\n",
       "      <td>62621</td>\n",
       "    </tr>\n",
       "  </tbody>\n",
       "</table>\n",
       "</div>"
      ],
      "text/plain": [
       "   ArticleName  ShoeTypeName  Model\n",
       "0    62619 TAN  SLIP ON SHOE  62619\n",
       "1  62619 BROWN  SLIP ON SHOE  62619\n",
       "2    62620 TAN     LACE SHOE  62620\n",
       "3  62620 BLACK     LACE SHOE  62620\n",
       "4    62621 TAN     LACE SHOE  62621"
      ]
     },
     "execution_count": 9,
     "metadata": {},
     "output_type": "execute_result"
    }
   ],
   "source": [
    "df.head()"
   ]
  },
  {
   "cell_type": "code",
   "execution_count": null,
   "metadata": {},
   "outputs": [],
   "source": [
    "df['Model']."
   ]
  }
 ],
 "metadata": {
  "kernelspec": {
   "display_name": "Python 3",
   "language": "python",
   "name": "python3"
  },
  "language_info": {
   "codemirror_mode": {
    "name": "ipython",
    "version": 3
   },
   "file_extension": ".py",
   "mimetype": "text/x-python",
   "name": "python",
   "nbconvert_exporter": "python",
   "pygments_lexer": "ipython3",
   "version": "3.7.6"
  }
 },
 "nbformat": 4,
 "nbformat_minor": 4
}
